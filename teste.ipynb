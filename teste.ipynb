{
 "cells": [
  {
   "cell_type": "code",
   "execution_count": 1,
   "id": "d34533c9",
   "metadata": {},
   "outputs": [],
   "source": [
    "import os\n",
    "from dotenv import load_dotenv\n",
    "\n",
    "load_dotenv(dotenv_path=\".env\") \n",
    "INSTANCES_PATH = os.getenv('INSTANCES')\n",
    "\n",
    "from utils.data import Data\n",
    "from utils.knapsack import Knapsack\n",
    "import numpy as np\n",
    "import algorithm.methods as methods\n",
    "import utils.tools as tools\n",
    "import os\n",
    "\n",
    "\n",
    "data_1 = Data(f'{INSTANCES_PATH}/scenario1/correlated_sc1/300/kpfs_1.txt')\n",
    "m = Knapsack(data_1)"
   ]
  },
  {
   "cell_type": "code",
   "execution_count": 2,
   "id": "9ea8a69c",
   "metadata": {},
   "outputs": [
    {
     "name": "stdout",
     "output_type": "stream",
     "text": [
      "[0. 0. 0. 0. 0. 0. 0. 0. 0. 0. 0. 1. 1. 0. 0. 0. 0. 0. 0. 0. 0. 0. 0. 0.\n",
      " 0. 0. 0. 1. 0. 1. 0. 0. 0. 0. 0. 0. 0. 0. 0. 0. 0. 0. 0. 0. 1. 0. 0. 0.\n",
      " 0. 0. 0. 0. 0. 0. 0. 0. 0. 0. 0. 0. 0. 0. 1. 0. 0. 0. 1. 1. 0. 0. 0. 0.\n",
      " 0. 0. 0. 0. 0. 0. 0. 0. 0. 0. 0. 0. 1. 0. 0. 0. 0. 0. 0. 0. 0. 0. 0. 0.\n",
      " 0. 0. 0. 0. 0. 0. 0. 1. 0. 0. 0. 0. 0. 0. 1. 0. 0. 1. 0. 1. 0. 0. 0. 0.\n",
      " 0. 0. 0. 0. 0. 0. 0. 0. 0. 0. 0. 0. 0. 0. 0. 0. 0. 0. 0. 0. 0. 0. 0. 0.\n",
      " 1. 0. 0. 0. 0. 0. 0. 0. 0. 0. 0. 0. 0. 0. 0. 0. 1. 1. 0. 0. 0. 0. 0. 0.\n",
      " 1. 0. 1. 0. 0. 0. 0. 0. 0. 0. 0. 1. 0. 0. 0. 0. 1. 0. 0. 0. 0. 0. 0. 0.\n",
      " 0. 0. 0. 0. 0. 0. 0. 0. 0. 0. 0. 0. 0. 0. 0. 0. 0. 0. 0. 0. 0. 1. 1. 0.\n",
      " 0. 0. 0. 0. 0. 0. 1. 0. 0. 1. 0. 0. 0. 0. 1. 0. 0. 0. 0. 0. 1. 0. 0. 0.\n",
      " 0. 0. 0. 0. 0. 0. 0. 0. 0. 0. 0. 0. 1. 0. 0. 1. 0. 0. 0. 0. 0. 0. 0. 0.\n",
      " 0. 0. 1. 0. 1. 0. 0. 1. 0. 1. 0. 0. 0. 1. 0. 0. 0. 0. 0. 0. 0. 0. 0. 1.\n",
      " 1. 0. 0. 0. 0. 0. 1. 0. 0. 1. 0. 0.]\n",
      "-745.0\n"
     ]
    }
   ],
   "source": [
    "lcr = tools.Contrucao(0.80)\n",
    "lcr.LCR(m)\n",
    "print(m.get_items())\n",
    "print(m.get_profit())"
   ]
  },
  {
   "cell_type": "code",
   "execution_count": 3,
   "id": "0e4a4901",
   "metadata": {},
   "outputs": [],
   "source": [
    "model_otm = methods.model(m)\n",
    "alfa = 0.95"
   ]
  },
  {
   "cell_type": "code",
   "execution_count": 4,
   "id": "29784d23",
   "metadata": {},
   "outputs": [],
   "source": [
    "melhor_mochila = model_otm.GRASP(alfa = alfa, criterio_parada=10, verbose=False, n_jobs=6)"
   ]
  },
  {
   "cell_type": "code",
   "execution_count": 5,
   "id": "917db183",
   "metadata": {},
   "outputs": [
    {
     "data": {
      "text/plain": [
       "np.float64(-499.0)"
      ]
     },
     "execution_count": 5,
     "metadata": {},
     "output_type": "execute_result"
    }
   ],
   "source": [
    "melhor_mochila.get_profit()"
   ]
  }
 ],
 "metadata": {
  "kernelspec": {
   "display_name": "Python 3",
   "language": "python",
   "name": "python3"
  },
  "language_info": {
   "codemirror_mode": {
    "name": "ipython",
    "version": 3
   },
   "file_extension": ".py",
   "mimetype": "text/x-python",
   "name": "python",
   "nbconvert_exporter": "python",
   "pygments_lexer": "ipython3",
   "version": "3.10.10"
  }
 },
 "nbformat": 4,
 "nbformat_minor": 5
}
