{
 "cells": [
  {
   "cell_type": "code",
   "execution_count": null,
   "id": "d34533c9",
   "metadata": {},
   "outputs": [],
   "source": [
    "import os\n",
    "from dotenv import load_dotenv\n",
    "\n",
    "load_dotenv(dotenv_path=\".env\") \n",
    "INSTANCES_PATH = os.getenv('INSTANCES')\n",
    "\n",
    "from data import Data\n",
    "from knapsack import Knapsack\n",
    "import numpy as np\n",
    "import algorithm.methods as methods\n",
    "import utils.tools as tools\n",
    "data_1 = Data(f'{INSTANCES_PATH}/scenario1/correlated_sc1/300/kpfs_1.txt')\n",
    "m = Knapsack(data_1)"
   ]
  },
  {
   "cell_type": "code",
   "execution_count": null,
   "id": "29784d23",
   "metadata": {},
   "outputs": [],
   "source": [
    "model_otm = methods.model(m)\n",
    "alfa= 0.95\n",
    "melhor_mochila = model_otm.GRASP(alfa = alfa, criterio_parada=10)"
   ]
  },
  {
   "cell_type": "code",
   "execution_count": null,
   "id": "917db183",
   "metadata": {},
   "outputs": [],
   "source": [
    "melhor_mochila.get_profit()"
   ]
  },
  {
   "cell_type": "code",
   "execution_count": null,
   "id": "7dd4bc21",
   "metadata": {},
   "outputs": [],
   "source": [
    "# alfa = 0.95\n",
    "# contrução = tools.Contrucao(alfa, m)\n",
    "# contrução.LCR()\n",
    "# m.get_profit()"
   ]
  }
 ],
 "metadata": {
  "kernelspec": {
   "display_name": "Python 3",
   "language": "python",
   "name": "python3"
  },
  "language_info": {
   "codemirror_mode": {
    "name": "ipython",
    "version": 3
   },
   "file_extension": ".py",
   "mimetype": "text/x-python",
   "name": "python",
   "nbconvert_exporter": "python",
   "pygments_lexer": "ipython3",
   "version": "3.10.10"
  }
 },
 "nbformat": 4,
 "nbformat_minor": 5
}
