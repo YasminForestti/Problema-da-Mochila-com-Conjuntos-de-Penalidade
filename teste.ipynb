{
 "cells": [
  {
   "cell_type": "code",
   "execution_count": 1,
   "id": "d34533c9",
   "metadata": {},
   "outputs": [],
   "source": [
    "import os\n",
    "from dotenv import load_dotenv\n",
    "\n",
    "load_dotenv(dotenv_path=\".env\") \n",
    "INSTANCES_PATH = os.getenv('INSTANCES')\n",
    "\n",
    "from utils.data import Data\n",
    "from utils.knapsack import Knapsack\n",
    "import numpy as np\n",
    "import algorithm.methods as methods\n",
    "import utils.tools as tools\n",
    "import os\n",
    "\n",
    "\n",
    "data_1 = Data(f'{INSTANCES_PATH}/scenario1/correlated_sc1/300/kpfs_1.txt')\n",
    "m = Knapsack(data_1)"
   ]
  },
  {
   "cell_type": "code",
   "execution_count": null,
   "id": "9ea8a69c",
   "metadata": {},
   "outputs": [],
   "source": [
    "# lcr = tools.Contrucao(1)\n",
    "# lcr.LCR(m)\n",
    "# print(m.get_items())\n",
    "# print(m.get_profit())"
   ]
  },
  {
   "cell_type": "code",
   "execution_count": 2,
   "id": "669074eb",
   "metadata": {},
   "outputs": [],
   "source": [
    "model_otm = methods.model(m)\n",
    "alfa= 0.95"
   ]
  },
  {
   "cell_type": "code",
   "execution_count": null,
   "id": "29784d23",
   "metadata": {},
   "outputs": [
    {
     "ename": "TypeError",
     "evalue": "model.GRASP() got an unexpected keyword argument 'n_jobs'",
     "output_type": "error",
     "traceback": [
      "\u001b[1;31m---------------------------------------------------------------------------\u001b[0m",
      "\u001b[1;31mTypeError\u001b[0m                                 Traceback (most recent call last)",
      "Cell \u001b[1;32mIn[3], line 1\u001b[0m\n\u001b[1;32m----> 1\u001b[0m melhor_mochila \u001b[38;5;241m=\u001b[39m \u001b[43mmodel_otm\u001b[49m\u001b[38;5;241;43m.\u001b[39;49m\u001b[43mGRASP\u001b[49m\u001b[43m(\u001b[49m\u001b[43malfa\u001b[49m\u001b[43m \u001b[49m\u001b[38;5;241;43m=\u001b[39;49m\u001b[43m \u001b[49m\u001b[43malfa\u001b[49m\u001b[43m,\u001b[49m\u001b[43m \u001b[49m\u001b[43mcriterio_parada\u001b[49m\u001b[38;5;241;43m=\u001b[39;49m\u001b[38;5;241;43m10\u001b[39;49m\u001b[43m,\u001b[49m\u001b[43m \u001b[49m\u001b[43mverbose\u001b[49m\u001b[38;5;241;43m=\u001b[39;49m\u001b[38;5;28;43;01mFalse\u001b[39;49;00m\u001b[43m,\u001b[49m\u001b[43m \u001b[49m\u001b[43mn_jobs\u001b[49m\u001b[38;5;241;43m=\u001b[39;49m\u001b[38;5;241;43m6\u001b[39;49m\u001b[43m)\u001b[49m\n",
      "\u001b[1;31mTypeError\u001b[0m: model.GRASP() got an unexpected keyword argument 'n_jobs'"
     ]
    }
   ],
   "source": [
    "melhor_mochila = model_otm.GRASP(alfa = alfa, criterio_parada=10)"
   ]
  },
  {
   "cell_type": "code",
   "execution_count": null,
   "id": "917db183",
   "metadata": {},
   "outputs": [],
   "source": [
    "melhor_mochila.get_profit()"
   ]
  }
 ],
 "metadata": {
  "kernelspec": {
   "display_name": "Python 3",
   "language": "python",
   "name": "python3"
  },
  "language_info": {
   "codemirror_mode": {
    "name": "ipython",
    "version": 3
   },
   "file_extension": ".py",
   "mimetype": "text/x-python",
   "name": "python",
   "nbconvert_exporter": "python",
   "pygments_lexer": "ipython3",
   "version": "3.10.10"
  }
 },
 "nbformat": 4,
 "nbformat_minor": 5
}
